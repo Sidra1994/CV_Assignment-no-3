{
  "nbformat": 4,
  "nbformat_minor": 0,
  "metadata": {
    "colab": {
      "name": "CV_Assignment_3.ipynb",
      "provenance": [],
      "collapsed_sections": [],
      "machine_shape": "hm"
    },
    "kernelspec": {
      "name": "python3",
      "display_name": "Python 3"
    },
    "accelerator": "GPU"
  },
  "cells": [
    {
      "cell_type": "markdown",
      "metadata": {
        "id": "ntMoPMC3PCQN"
      },
      "source": [
        "**Github repository cloning**"
      ]
    },
    {
      "cell_type": "code",
      "metadata": {
        "id": "TpedIy3hCuY-",
        "colab": {
          "base_uri": "https://localhost:8080/"
        },
        "outputId": "6e57be51-7eff-4712-8f64-a20fc30c38d2"
      },
      "source": [
        "! git clone https://github.com/Amiable-Syed/datasetAssignment3.git"
      ],
      "execution_count": 1,
      "outputs": [
        {
          "output_type": "stream",
          "text": [
            "Cloning into 'datasetAssignment3'...\n",
            "remote: Enumerating objects: 24312, done.\u001b[K\n",
            "remote: Total 24312 (delta 0), reused 0 (delta 0), pack-reused 24312\u001b[K\n",
            "Receiving objects: 100% (24312/24312), 342.22 MiB | 37.46 MiB/s, done.\n",
            "Checking out files: 100% (24335/24335), done.\n"
          ],
          "name": "stdout"
        }
      ]
    },
    {
      "cell_type": "markdown",
      "metadata": {
        "id": "pK5y6TMKPS3l"
      },
      "source": [
        "**Imports of different packages**"
      ]
    },
    {
      "cell_type": "code",
      "metadata": {
        "id": "-Wb15aW-C20f"
      },
      "source": [
        "import os, shutil\n",
        "import matplotlib.pyplot as plt\n",
        "from tensorflow.keras import layers, optimizers\n",
        "from tensorflow.keras.models import Sequential, load_model\n",
        "import cv2\n",
        "import tensorflow as tf\n",
        "from tensorflow import keras\n",
        "import numpy as np\n",
        "from sklearn.model_selection import train_test_split\n",
        "from sklearn import preprocessing\n",
        "from sklearn.metrics import confusion_matrix"
      ],
      "execution_count": 2,
      "outputs": []
    },
    {
      "cell_type": "code",
      "metadata": {
        "id": "rQhxM86oTiTH"
      },
      "source": [
        "##Help taken from classfellow (Saqib Naseeb)"
      ],
      "execution_count": 3,
      "outputs": []
    },
    {
      "cell_type": "markdown",
      "metadata": {
        "id": "JQuzgm_2PgNu"
      },
      "source": [
        "**Get Base Directory**\n",
        "\n",
        "**join paths with base directory**"
      ]
    },
    {
      "cell_type": "code",
      "metadata": {
        "id": "ERE9efluDYz6"
      },
      "source": [
        "root_dir = os.getcwd()\n",
        "buildings_dir=root_dir+\"/datasetAssignment3/seg_train/seg_train/buildings\"\n",
        "forest_dir=root_dir+\"/datasetAssignment3/seg_train/seg_train/forest\"\n",
        "glacier_dir = root_dir+\"/datasetAssignment3/seg_train/seg_train/glacier\"\n",
        "mountain_dir = root_dir+\"/datasetAssignment3/seg_train/seg_train/mountain\"\n",
        "sea_dir = root_dir+\"/datasetAssignment3/seg_train/seg_train/sea\"\n",
        "street_dir = root_dir+\"/datasetAssignment3/seg_train/seg_train/street\""
      ],
      "execution_count": 4,
      "outputs": []
    },
    {
      "cell_type": "markdown",
      "metadata": {
        "id": "SGFb19TVQCeA"
      },
      "source": [
        "**Get image file name**"
      ]
    },
    {
      "cell_type": "code",
      "metadata": {
        "id": "qEEzabfqEX-n"
      },
      "source": [
        "build_imgs = os.listdir(buildings_dir)\n",
        "forest_imgs = os.listdir(forest_dir)\n",
        "gla_imgs = os.listdir(glacier_dir)\n",
        "mount_imgs = os.listdir(mountain_dir)\n",
        "sea_imgs = os.listdir(sea_dir)\n",
        "street_imgs = os.listdir(street_dir)"
      ],
      "execution_count": 5,
      "outputs": []
    },
    {
      "cell_type": "code",
      "metadata": {
        "id": "fGizFf_-GnVP"
      },
      "source": [
        "def readData(X,labels,base_dir,filesname,label):\n",
        "  for imgFile in filesname:\n",
        "    imagePath = os.path.join(base_dir,imgFile)\n",
        "    image = cv2.imread(imagePath)\n",
        "    image = cv2.cvtColor(image, cv2.COLOR_BGR2RGB)\n",
        "    image = cv2.resize(image, (210, 210))\n",
        "    X.append(image)\n",
        "    labels.append(label)\n"
      ],
      "execution_count": 6,
      "outputs": []
    },
    {
      "cell_type": "markdown",
      "metadata": {
        "id": "9tLdXxk2v81T"
      },
      "source": [
        "Reading Training Data"
      ]
    },
    {
      "cell_type": "code",
      "metadata": {
        "id": "TP7XpIYFEbaM"
      },
      "source": [
        "X_train=[]\n",
        "y_train=[]\n",
        "readData(X_train,y_train,buildings_dir,build_imgs,\"Buildings\")\n",
        "readData(X_train,y_train,forest_dir,forest_imgs,\"Forest\")\n",
        "readData(X_train,y_train,glacier_dir,gla_imgs,\"Glacier\")\n",
        "readData(X_train,y_train,mountain_dir,mount_imgs,\"Mountain\")\n",
        "readData(X_train,y_train,sea_dir,sea_imgs,\"Sea\")\n",
        "readData(X_train,y_train,street_dir,street_imgs,\"Street\")"
      ],
      "execution_count": 7,
      "outputs": []
    },
    {
      "cell_type": "markdown",
      "metadata": {
        "id": "UKq6uydYwByR"
      },
      "source": [
        "Reading Test Data"
      ]
    },
    {
      "cell_type": "code",
      "metadata": {
        "id": "6CHdIqt4wT_b"
      },
      "source": [
        "buildings_test_dir=root_dir+\"/datasetAssignment3/seg_test/seg_test/buildings\"\r\n",
        "forest_test_dir=root_dir+\"/datasetAssignment3/seg_test/seg_test/forest\"\r\n",
        "glacier_test_dir = root_dir+\"/datasetAssignment3/seg_test/seg_test/glacier\"\r\n",
        "mountain_test_dir = root_dir+\"/datasetAssignment3/seg_test/seg_test/mountain\"\r\n",
        "sea_test_dir = root_dir+\"/datasetAssignment3/seg_test/seg_test/sea\"\r\n",
        "street_test_dir = root_dir+\"/datasetAssignment3/seg_test/seg_test/street\""
      ],
      "execution_count": 8,
      "outputs": []
    },
    {
      "cell_type": "code",
      "metadata": {
        "id": "cQ4DHI9qwX_M"
      },
      "source": [
        "build_imgs = os.listdir(buildings_test_dir)\r\n",
        "forest_imgs = os.listdir(forest_test_dir)\r\n",
        "gla_imgs = os.listdir(glacier_test_dir)\r\n",
        "mount_imgs = os.listdir(mountain_test_dir)\r\n",
        "sea_imgs = os.listdir(sea_test_dir)\r\n",
        "street_imgs = os.listdir(street_test_dir)"
      ],
      "execution_count": 9,
      "outputs": []
    },
    {
      "cell_type": "code",
      "metadata": {
        "id": "wsnKkKvAwEJI"
      },
      "source": [
        "X_test=[]\r\n",
        "y_test=[]\r\n",
        "readData(X_test,y_test,buildings_test_dir,build_imgs,\"Buildings\")\r\n",
        "readData(X_test,y_test,forest_test_dir,forest_imgs,\"Forest\")\r\n",
        "readData(X_test,y_test,glacier_test_dir,gla_imgs,\"Glacier\")\r\n",
        "readData(X_test,y_test,mountain_test_dir,mount_imgs,\"Mountain\")\r\n",
        "readData(X_test,y_test,sea_test_dir,sea_imgs,\"Sea\")\r\n",
        "readData(X_test,y_test,street_test_dir,street_imgs,\"Street\")"
      ],
      "execution_count": 10,
      "outputs": []
    },
    {
      "cell_type": "code",
      "metadata": {
        "colab": {
          "base_uri": "https://localhost:8080/"
        },
        "id": "lcYk5F6iyp_T",
        "outputId": "d645ec31-cd03-4795-a28e-3e2331c0f04d"
      },
      "source": [
        "lb = preprocessing.LabelBinarizer()\r\n",
        "labels = lb.fit_transform(y_train)\r\n",
        "X_train=np.array(X_train,dtype=\"float32\")\r\n",
        "y_train=np.array(labels)\r\n",
        "\r\n",
        "# flabels = np.flatten(labels)\r\n",
        "print(\"X_train shape\",X_train.shape)\r\n",
        "# print(\"f la shape\",flabels)\r\n",
        "print(\"y_train labels shape:\",y_train.shape)\r\n"
      ],
      "execution_count": 11,
      "outputs": [
        {
          "output_type": "stream",
          "text": [
            "X_train shape (14034, 210, 210, 3)\n",
            "y_train labels shape: (14034, 6)\n"
          ],
          "name": "stdout"
        }
      ]
    },
    {
      "cell_type": "code",
      "metadata": {
        "id": "ebiynn0GRRpe",
        "colab": {
          "base_uri": "https://localhost:8080/"
        },
        "outputId": "6899ffd3-6bae-4b44-aa00-98336f0111cc"
      },
      "source": [
        "lb = preprocessing.LabelBinarizer()\n",
        "labels = lb.fit_transform(y_test)\n",
        "X_test=np.array(X_test,dtype=\"float32\")\n",
        "y_test=np.array(labels)\n",
        "\n",
        "# flabels = np.flatten(labels)\n",
        "print(\"X_test shape\",X_test.shape)\n",
        "# print(\"f la shape\",flabels)\n",
        "print(\"y_test labels shape:\",y_test.shape)\n"
      ],
      "execution_count": 12,
      "outputs": [
        {
          "output_type": "stream",
          "text": [
            "X_test shape (3000, 210, 210, 3)\n",
            "y_test labels shape: (3000, 6)\n"
          ],
          "name": "stdout"
        }
      ]
    },
    {
      "cell_type": "code",
      "metadata": {
        "id": "cH8IAWEPNU1b"
      },
      "source": [
        "model = Sequential()\n",
        "model.add(layers.Conv2D(32, (3, 3), activation='relu',\n",
        "                        input_shape=(210, 210, 3)))\n",
        "model.add(layers.Conv2D(64, (3, 3), activation='relu'))\n",
        "model.add(layers.Conv2D(128, (3, 3), activation='relu'))\n",
        "model.add(layers.MaxPooling2D((2,2)))\n",
        "\n",
        "model.add(layers.Conv2D(256, (3, 3), activation='relu'))\n",
        "model.add(layers.MaxPooling2D((2,2)))\n",
        "model.add(layers.Flatten())\n",
        "model.add(layers.Dropout(0.5))\n",
        "model.add(layers.Dense(32, activation='relu'))\n",
        "model.add(layers.Dense(16, activation='relu'))\n",
        "model.add(layers.Dense(6,activation='softmax'))\n"
      ],
      "execution_count": 18,
      "outputs": []
    },
    {
      "cell_type": "code",
      "metadata": {
        "id": "gYQlB1sqPf1b",
        "colab": {
          "base_uri": "https://localhost:8080/"
        },
        "outputId": "d7b6a1d1-404e-4e0d-89fc-4992c26a8d09"
      },
      "source": [
        "model.summary()"
      ],
      "execution_count": 19,
      "outputs": [
        {
          "output_type": "stream",
          "text": [
            "Model: \"sequential_1\"\n",
            "_________________________________________________________________\n",
            "Layer (type)                 Output Shape              Param #   \n",
            "=================================================================\n",
            "conv2d_4 (Conv2D)            (None, 208, 208, 32)      896       \n",
            "_________________________________________________________________\n",
            "conv2d_5 (Conv2D)            (None, 206, 206, 64)      18496     \n",
            "_________________________________________________________________\n",
            "conv2d_6 (Conv2D)            (None, 204, 204, 128)     73856     \n",
            "_________________________________________________________________\n",
            "max_pooling2d_2 (MaxPooling2 (None, 102, 102, 128)     0         \n",
            "_________________________________________________________________\n",
            "conv2d_7 (Conv2D)            (None, 100, 100, 256)     295168    \n",
            "_________________________________________________________________\n",
            "max_pooling2d_3 (MaxPooling2 (None, 50, 50, 256)       0         \n",
            "_________________________________________________________________\n",
            "flatten_1 (Flatten)          (None, 640000)            0         \n",
            "_________________________________________________________________\n",
            "dropout_1 (Dropout)          (None, 640000)            0         \n",
            "_________________________________________________________________\n",
            "dense_3 (Dense)              (None, 32)                20480032  \n",
            "_________________________________________________________________\n",
            "dense_4 (Dense)              (None, 16)                528       \n",
            "_________________________________________________________________\n",
            "dense_5 (Dense)              (None, 6)                 102       \n",
            "=================================================================\n",
            "Total params: 20,869,078\n",
            "Trainable params: 20,869,078\n",
            "Non-trainable params: 0\n",
            "_________________________________________________________________\n"
          ],
          "name": "stdout"
        }
      ]
    },
    {
      "cell_type": "markdown",
      "metadata": {
        "id": "w1q37QzDREO0"
      },
      "source": [
        "##Stochastic Gradient Decent with learning rate##"
      ]
    },
    {
      "cell_type": "code",
      "metadata": {
        "id": "G5qXrMJrQSW8"
      },
      "source": [
        "sgd = optimizers.SGD(lr=0.0001, decay=1e-3, momentum=0.5)\n",
        "model.compile(loss='categorical_crossentropy',\n",
        "              optimizer=sgd,\n",
        "              metrics=['acc'])"
      ],
      "execution_count": 20,
      "outputs": []
    },
    {
      "cell_type": "code",
      "metadata": {
        "id": "35ahjaYrRJwt",
        "colab": {
          "base_uri": "https://localhost:8080/"
        },
        "outputId": "92b0348c-06a8-45a4-d489-17dc21960765"
      },
      "source": [
        "print(\"Y_Train shape:\",y_train.shape)\n",
        "print(\"X_Train shape:\",X_train.shape)"
      ],
      "execution_count": 21,
      "outputs": [
        {
          "output_type": "stream",
          "text": [
            "Y_Train shape: (14034, 6)\n",
            "X_Train shape: (14034, 210, 210, 3)\n"
          ],
          "name": "stdout"
        }
      ]
    },
    {
      "cell_type": "markdown",
      "metadata": {
        "id": "V25VRxSwRUf4"
      },
      "source": [
        "##Model training with validation split of 10%##"
      ]
    },
    {
      "cell_type": "code",
      "metadata": {
        "id": "M8_Gc3hrPvl_",
        "colab": {
          "base_uri": "https://localhost:8080/"
        },
        "outputId": "3afc2e60-993b-4dcb-e9b5-50d900f262c5"
      },
      "source": [
        "history = model.fit(X_train,y_train,epochs=80,batch_size=64, verbose=1,validation_split=0.10)"
      ],
      "execution_count": null,
      "outputs": [
        {
          "output_type": "stream",
          "text": [
            "Epoch 1/80\n",
            "198/198 [==============================] - 71s 317ms/step - loss: 11.5066 - acc: 0.1928 - val_loss: 1.8037 - val_acc: 0.0000e+00\n",
            "Epoch 2/80\n",
            "198/198 [==============================] - 60s 305ms/step - loss: 1.7472 - acc: 0.1765 - val_loss: 1.8710 - val_acc: 7.1225e-04\n",
            "Epoch 3/80\n",
            "198/198 [==============================] - 60s 305ms/step - loss: 1.6916 - acc: 0.2438 - val_loss: 1.8814 - val_acc: 0.0050\n",
            "Epoch 4/80\n",
            "198/198 [==============================] - 60s 305ms/step - loss: 1.6393 - acc: 0.2379 - val_loss: 1.9685 - val_acc: 0.0392\n",
            "Epoch 5/80\n",
            "198/198 [==============================] - 60s 305ms/step - loss: 1.6005 - acc: 0.2754 - val_loss: 1.7141 - val_acc: 0.4209\n",
            "Epoch 6/80\n",
            "198/198 [==============================] - 60s 305ms/step - loss: 1.5741 - acc: 0.2743 - val_loss: 1.6728 - val_acc: 0.4836\n",
            "Epoch 7/80\n",
            "198/198 [==============================] - 60s 305ms/step - loss: 1.5539 - acc: 0.2888 - val_loss: 1.7200 - val_acc: 0.4972\n",
            "Epoch 8/80\n",
            "198/198 [==============================] - 60s 305ms/step - loss: 1.5293 - acc: 0.2927 - val_loss: 1.5717 - val_acc: 0.5463\n",
            "Epoch 9/80\n",
            "198/198 [==============================] - 61s 306ms/step - loss: 1.5246 - acc: 0.2979 - val_loss: 1.6510 - val_acc: 0.5142\n",
            "Epoch 10/80\n",
            "198/198 [==============================] - 60s 305ms/step - loss: 1.5129 - acc: 0.2937 - val_loss: 1.3108 - val_acc: 0.7244\n",
            "Epoch 11/80\n",
            "198/198 [==============================] - 60s 305ms/step - loss: 1.5111 - acc: 0.2891 - val_loss: 1.4191 - val_acc: 0.6724\n",
            "Epoch 12/80\n",
            "198/198 [==============================] - 60s 305ms/step - loss: 1.4952 - acc: 0.2910 - val_loss: 1.4283 - val_acc: 0.6645\n",
            "Epoch 13/80\n",
            "198/198 [==============================] - 60s 305ms/step - loss: 1.4885 - acc: 0.3043 - val_loss: 1.4347 - val_acc: 0.6439\n",
            "Epoch 14/80\n",
            "198/198 [==============================] - 60s 305ms/step - loss: 1.4892 - acc: 0.3031 - val_loss: 1.3855 - val_acc: 0.6866\n",
            "Epoch 15/80\n",
            "198/198 [==============================] - 60s 305ms/step - loss: 1.4727 - acc: 0.3068 - val_loss: 1.3662 - val_acc: 0.7023\n",
            "Epoch 16/80\n",
            "198/198 [==============================] - 60s 305ms/step - loss: 1.4679 - acc: 0.3054 - val_loss: 1.5048 - val_acc: 0.6268\n",
            "Epoch 17/80\n",
            "198/198 [==============================] - 60s 305ms/step - loss: 1.4562 - acc: 0.3046 - val_loss: 1.3404 - val_acc: 0.7080\n",
            "Epoch 18/80\n",
            "198/198 [==============================] - 60s 305ms/step - loss: 1.4465 - acc: 0.3063 - val_loss: 1.2806 - val_acc: 0.7422\n",
            "Epoch 19/80\n",
            "198/198 [==============================] - 60s 305ms/step - loss: 1.4563 - acc: 0.3012 - val_loss: 1.2393 - val_acc: 0.7685\n",
            "Epoch 20/80\n",
            "198/198 [==============================] - 60s 305ms/step - loss: 1.4391 - acc: 0.3046 - val_loss: 1.3932 - val_acc: 0.6866\n",
            "Epoch 21/80\n",
            "198/198 [==============================] - 60s 305ms/step - loss: 1.4391 - acc: 0.3035 - val_loss: 1.2413 - val_acc: 0.7642\n",
            "Epoch 22/80\n",
            "198/198 [==============================] - 60s 305ms/step - loss: 1.4379 - acc: 0.3098 - val_loss: 1.3508 - val_acc: 0.7201\n",
            "Epoch 23/80\n",
            "198/198 [==============================] - 60s 305ms/step - loss: 1.4271 - acc: 0.3021 - val_loss: 1.2784 - val_acc: 0.7521\n",
            "Epoch 24/80\n",
            "198/198 [==============================] - 60s 305ms/step - loss: 1.4202 - acc: 0.3018 - val_loss: 1.2337 - val_acc: 0.7721\n",
            "Epoch 25/80\n",
            "198/198 [==============================] - 60s 305ms/step - loss: 1.4113 - acc: 0.3055 - val_loss: 1.3696 - val_acc: 0.7016\n",
            "Epoch 26/80\n",
            "198/198 [==============================] - 60s 305ms/step - loss: 1.4001 - acc: 0.3035 - val_loss: 1.4530 - val_acc: 0.6674\n",
            "Epoch 27/80\n",
            "198/198 [==============================] - 60s 305ms/step - loss: 1.3992 - acc: 0.3067 - val_loss: 1.3476 - val_acc: 0.7073\n",
            "Epoch 28/80\n",
            "198/198 [==============================] - 60s 305ms/step - loss: 1.3844 - acc: 0.3078 - val_loss: 1.3985 - val_acc: 0.6560\n",
            "Epoch 29/80\n",
            "198/198 [==============================] - 60s 305ms/step - loss: 1.3807 - acc: 0.3086 - val_loss: 1.4455 - val_acc: 0.5983\n",
            "Epoch 30/80\n",
            "198/198 [==============================] - 60s 305ms/step - loss: 1.3688 - acc: 0.3112 - val_loss: 1.4356 - val_acc: 0.5085\n",
            "Epoch 31/80\n",
            "198/198 [==============================] - 60s 305ms/step - loss: 1.3662 - acc: 0.3154 - val_loss: 1.4459 - val_acc: 0.1254\n",
            "Epoch 32/80\n",
            "198/198 [==============================] - 60s 305ms/step - loss: 1.3642 - acc: 0.3936 - val_loss: 1.4888 - val_acc: 0.0292\n",
            "Epoch 33/80\n",
            "198/198 [==============================] - 60s 305ms/step - loss: 1.3474 - acc: 0.4153 - val_loss: 1.4583 - val_acc: 0.0135\n",
            "Epoch 34/80\n",
            "198/198 [==============================] - 60s 305ms/step - loss: 1.3447 - acc: 0.4264 - val_loss: 1.5133 - val_acc: 0.0150\n",
            "Epoch 35/80\n",
            "198/198 [==============================] - 60s 305ms/step - loss: 1.3369 - acc: 0.4273 - val_loss: 1.6016 - val_acc: 0.0036\n",
            "Epoch 36/80\n",
            "198/198 [==============================] - 60s 305ms/step - loss: 1.3346 - acc: 0.4234 - val_loss: 1.6598 - val_acc: 0.0000e+00\n",
            "Epoch 37/80\n",
            "198/198 [==============================] - 60s 305ms/step - loss: 1.3247 - acc: 0.4238 - val_loss: 1.5317 - val_acc: 0.0000e+00\n",
            "Epoch 38/80\n",
            "198/198 [==============================] - 60s 305ms/step - loss: 1.3085 - acc: 0.4356 - val_loss: 1.5811 - val_acc: 0.0000e+00\n",
            "Epoch 39/80\n",
            "198/198 [==============================] - 60s 305ms/step - loss: 1.3120 - acc: 0.4270 - val_loss: 1.5941 - val_acc: 0.0000e+00\n",
            "Epoch 40/80\n",
            "198/198 [==============================] - 60s 305ms/step - loss: 1.3033 - acc: 0.4299 - val_loss: 1.6872 - val_acc: 0.0000e+00\n",
            "Epoch 41/80\n",
            "198/198 [==============================] - 60s 305ms/step - loss: 1.2944 - acc: 0.4298 - val_loss: 1.5994 - val_acc: 0.0000e+00\n",
            "Epoch 42/80\n",
            "198/198 [==============================] - 60s 305ms/step - loss: 1.3019 - acc: 0.4311 - val_loss: 1.6829 - val_acc: 0.0000e+00\n",
            "Epoch 43/80\n",
            "198/198 [==============================] - 60s 305ms/step - loss: 1.3010 - acc: 0.4290 - val_loss: 1.7443 - val_acc: 0.0000e+00\n",
            "Epoch 44/80\n",
            "198/198 [==============================] - 60s 305ms/step - loss: 1.2866 - acc: 0.4306 - val_loss: 1.7669 - val_acc: 0.0000e+00\n",
            "Epoch 45/80\n",
            "198/198 [==============================] - 60s 305ms/step - loss: 1.2852 - acc: 0.4341 - val_loss: 1.6939 - val_acc: 0.0000e+00\n",
            "Epoch 46/80\n",
            "198/198 [==============================] - 60s 305ms/step - loss: 1.2939 - acc: 0.4380 - val_loss: 1.7779 - val_acc: 0.0000e+00\n",
            "Epoch 47/80\n",
            "198/198 [==============================] - 60s 305ms/step - loss: 1.2806 - acc: 0.4348 - val_loss: 1.7880 - val_acc: 0.0000e+00\n",
            "Epoch 48/80\n",
            "198/198 [==============================] - 60s 305ms/step - loss: 1.2832 - acc: 0.4421 - val_loss: 1.7168 - val_acc: 0.0000e+00\n",
            "Epoch 49/80\n",
            "198/198 [==============================] - 60s 305ms/step - loss: 1.2762 - acc: 0.4420 - val_loss: 1.7084 - val_acc: 0.0000e+00\n",
            "Epoch 50/80\n",
            "198/198 [==============================] - 60s 305ms/step - loss: 1.2762 - acc: 0.4360 - val_loss: 1.7223 - val_acc: 0.0000e+00\n",
            "Epoch 51/80\n",
            "198/198 [==============================] - 60s 305ms/step - loss: 1.2744 - acc: 0.4334 - val_loss: 1.6842 - val_acc: 0.0000e+00\n",
            "Epoch 52/80\n",
            "162/198 [=======================>......] - ETA: 10s - loss: 1.2730 - acc: 0.4404"
          ],
          "name": "stdout"
        }
      ]
    },
    {
      "cell_type": "code",
      "metadata": {
        "id": "ZNkrSksXRkp9",
        "colab": {
          "base_uri": "https://localhost:8080/",
          "height": 34
        },
        "outputId": "95e72261-9441-4c8b-afef-f6f2f2577f20"
      },
      "source": [
        " model.evaluate(X_test,y_test,batch_size=128)\n",
        " y_pred = model.predict(X_test)"
      ],
      "execution_count": null,
      "outputs": [
        {
          "output_type": "stream",
          "text": [
            "886/886 [==============================] - 2s 2ms/sample - loss: 0.4600 - acc: 0.8533\n"
          ],
          "name": "stdout"
        }
      ]
    },
    {
      "cell_type": "code",
      "metadata": {
        "id": "B-e86HBRQRmb",
        "colab": {
          "base_uri": "https://localhost:8080/",
          "height": 51
        },
        "outputId": "d03dc61f-cfac-40db-926a-b91201be540d"
      },
      "source": [
        "print(\"Y_Test shape:\",y_test.shape)\n",
        "print(\"Y_pred shape:\",y_pred.shape)\n",
        "y_test1=np.argmax(y_test, axis=1)\n",
        "y_pred1 = np.argmax(y_pred, axis=1)\n",
        "confusion_matrix = confusion_matrix(y_test1, y_pred1)"
      ],
      "execution_count": null,
      "outputs": [
        {
          "output_type": "stream",
          "text": [
            "Y_Test shape: (886, 4)\n",
            "Y_pred shape: (886, 4)\n"
          ],
          "name": "stdout"
        }
      ]
    },
    {
      "cell_type": "code",
      "metadata": {
        "id": "WRXRdeQ2Tqm2",
        "colab": {
          "base_uri": "https://localhost:8080/",
          "height": 34
        },
        "outputId": "29049891-4b52-43c5-df7f-18631ac4a1a9"
      },
      "source": [
        "labels.shape"
      ],
      "execution_count": null,
      "outputs": [
        {
          "output_type": "execute_result",
          "data": {
            "text/plain": [
              "(4428, 4)"
            ]
          },
          "metadata": {
            "tags": []
          },
          "execution_count": 92
        }
      ]
    },
    {
      "cell_type": "code",
      "metadata": {
        "id": "yt0MK65GSIFj",
        "colab": {
          "base_uri": "https://localhost:8080/",
          "height": 357
        },
        "outputId": "0d8a53b1-48d4-4291-814e-41ca52eaa178"
      },
      "source": [
        "print(confusion_matrix)\n",
        "fig = plt.figure()\n",
        "ax = fig.add_subplot(111)\n",
        "cax = ax.matshow(confusion_matrix)\n",
        "plt.title('Confusion matrix of the classifier')\n",
        "fig.colorbar(cax)\n",
        "ax.set_xticklabels([''])\n",
        "ax.set_yticklabels([''])\n",
        "plt.xlabel('Predicted')\n",
        "plt.ylabel('True')\n",
        "plt.show()"
      ],
      "execution_count": null,
      "outputs": [
        {
          "output_type": "stream",
          "text": [
            "[[171  12   4   9]\n",
            " [  7 241  14   1]\n",
            " [  5  38 151  11]\n",
            " [  5  14  10 193]]\n"
          ],
          "name": "stdout"
        },
        {
          "output_type": "display_data",
          "data": {
            "image/png": "[encoded data removed]",
            "text/plain": [
              "<Figure size 432x288 with 2 Axes>"
            ]
          },
          "metadata": {
            "tags": []
          }
        }
      ]
    },
    {
      "cell_type": "markdown",
      "metadata": {
        "id": "_Or35AowQ1vq"
      },
      "source": [
        "##Save model##"
      ]
    },
    {
      "cell_type": "code",
      "metadata": {
        "id": "KKLeMKD6Qi3F"
      },
      "source": [
        "model.save(\"test_accurracy 85.h5\")"
      ],
      "execution_count": null,
      "outputs": []
    },
    {
      "cell_type": "markdown",
      "metadata": {
        "id": "AIlr-AhSRdip"
      },
      "source": [
        "##Graphs of loss and accuracy##"
      ]
    },
    {
      "cell_type": "code",
      "metadata": {
        "id": "aoM8DOs7Q7rS",
        "colab": {
          "base_uri": "https://localhost:8080/",
          "height": 545
        },
        "outputId": "b5697bf6-4ed8-4ca4-bba9-21db7358a4f5"
      },
      "source": [
        "acc = history.history['acc']\n",
        "val_acc = history.history['val_acc']\n",
        "loss = history.history['loss']\n",
        "val_loss = history.history['val_loss']\n",
        "\n",
        "epochs = range(len(acc))\n",
        "\n",
        "plt.plot(epochs, acc, 'bo', label='Training acc')\n",
        "plt.plot(epochs, val_acc, 'b', label='Validation acc')\n",
        "plt.title('Training and validation accuracy')\n",
        "plt.legend()\n",
        "\n",
        "plt.figure()\n",
        "\n",
        "plt.plot(epochs, loss, 'bo', label='Training loss')\n",
        "plt.plot(epochs, val_loss, 'b', label='Validation loss')\n",
        "plt.title('Training and validation loss')\n",
        "plt.legend()\n",
        "\n",
        "plt.show()"
      ],
      "execution_count": null,
      "outputs": [
        {
          "output_type": "display_data",
          "data": {
            "image/png": "[encoded data removed]",
            "text/plain": [
              "<Figure size 432x288 with 1 Axes>"
            ]
          },
          "metadata": {
            "tags": []
          }
        },
        {
          "output_type": "display_data",
          "data": {
            "image/png": "[encoded data removed]",
            "text/plain": [
              "<Figure size 432x288 with 1 Axes>"
            ]
          },
          "metadata": {
            "tags": []
          }
        }
      ]
    }
  ]
}